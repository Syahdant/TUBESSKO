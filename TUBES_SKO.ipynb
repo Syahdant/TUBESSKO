{
  "nbformat": 4,
  "nbformat_minor": 0,
  "metadata": {
    "colab": {
      "name": "TUBES_SKO.ipynb",
      "provenance": [],
      "collapsed_sections": [],
      "toc_visible": true,
      "include_colab_link": true
    },
    "kernelspec": {
      "display_name": "Python 3",
      "name": "python3"
    }
  },
  "cells": [
    {
      "cell_type": "markdown",
      "metadata": {
        "id": "view-in-github",
        "colab_type": "text"
      },
      "source": [
        "<a href=\"https://colab.research.google.com/github/Syahdant/TUBESSKO/blob/main/TUBES_SKO.ipynb\" target=\"_parent\"><img src=\"https://colab.research.google.com/assets/colab-badge.svg\" alt=\"Open In Colab\"/></a>"
      ]
    },
    {
      "cell_type": "code",
      "metadata": {
        "id": "QUupkoaMNfSB"
      },
      "source": [
        "from math import log10, sqrt\r\n",
        "import numpy as np\r\n",
        "import matplotlib.pyplot as plt"
      ],
      "execution_count": 157,
      "outputs": []
    },
    {
      "cell_type": "code",
      "metadata": {
        "id": "_lMl1H62Nor0"
      },
      "source": [
        "#-- Kabel FO G.652 - SI - SM\r\n",
        "jarak= np.arange(1,41,1)\r\n",
        "Hspl= 2\r\n",
        "disp_M= 17e-12\r\n",
        "alpha_f= 0.2"
      ],
      "execution_count": 158,
      "outputs": []
    },
    {
      "cell_type": "code",
      "metadata": {
        "id": "ls0T9p3ONwVJ"
      },
      "source": [
        "#--Pengirim\r\n",
        "Ptx= 8\r\n",
        "Ptx_db= 10*log10(Ptx)\r\n",
        "spektral= 0.1\r\n",
        "t_tx= 35e-12\r\n",
        "Mod_NRZ= 0.7\r\n",
        "Mod_RZ=0.35\r\n",
        "Br= 10e-9\r\n",
        "Tb= 1/Br"
      ],
      "execution_count": 159,
      "outputs": []
    },
    {
      "cell_type": "code",
      "metadata": {
        "id": "1XHDx6maN1vy"
      },
      "source": [
        "#--Pengirim\r\n",
        "Sensitivitas= -27\r\n",
        "t_rx= 35e-12"
      ],
      "execution_count": 160,
      "outputs": []
    },
    {
      "cell_type": "code",
      "metadata": {
        "id": "ppWRMtc4N3cZ"
      },
      "source": [
        "N_c= 2\r\n",
        "alpha_c= 0.1\r\n",
        "N_sp= (jarak/Hspl)-1\r\n",
        "alpha_sp= 0.1\r\n",
        "Ms= 4"
      ],
      "execution_count": 161,
      "outputs": []
    },
    {
      "cell_type": "code",
      "metadata": {
        "id": "5G6KP3ycN_so"
      },
      "source": [
        "alpha_t=N_c*alpha_c+N_sp*alpha_sp+jarak*alpha_f+Ms"
      ],
      "execution_count": 162,
      "outputs": []
    },
    {
      "cell_type": "code",
      "metadata": {
        "id": "ZjbmmdP_v34U"
      },
      "source": [
        "Prx= Ptx_db-alpha_t"
      ],
      "execution_count": 163,
      "outputs": []
    },
    {
      "cell_type": "code",
      "metadata": {
        "id": "iK-O9rURONV1",
        "colab": {
          "base_uri": "https://localhost:8080/"
        },
        "outputId": "22d987c3-69c5-4b56-c5f6-bea0dc832f7f"
      },
      "source": [
        "Prx"
      ],
      "execution_count": 164,
      "outputs": [
        {
          "output_type": "execute_result",
          "data": {
            "text/plain": [
              "array([ 4.68089987,  4.43089987,  4.18089987,  3.93089987,  3.68089987,\n",
              "        3.43089987,  3.18089987,  2.93089987,  2.68089987,  2.43089987,\n",
              "        2.18089987,  1.93089987,  1.68089987,  1.43089987,  1.18089987,\n",
              "        0.93089987,  0.68089987,  0.43089987,  0.18089987, -0.06910013,\n",
              "       -0.31910013, -0.56910013, -0.81910013, -1.06910013, -1.31910013,\n",
              "       -1.56910013, -1.81910013, -2.06910013, -2.31910013, -2.56910013,\n",
              "       -2.81910013, -3.06910013, -3.31910013, -3.56910013, -3.81910013,\n",
              "       -4.06910013, -4.31910013, -4.56910013, -4.81910013, -5.06910013])"
            ]
          },
          "metadata": {
            "tags": []
          },
          "execution_count": 164
        }
      ]
    },
    {
      "cell_type": "code",
      "metadata": {
        "id": "wPJ7N_9QOZoy",
        "colab": {
          "base_uri": "https://localhost:8080/",
          "height": 294
        },
        "outputId": "8fb0a9ec-6ccf-40d3-d7c9-861e38a9d919"
      },
      "source": [
        "plt.plot(jarak,Prx)\r\n",
        "plt.xlabel(\"Jarak (m)\")\r\n",
        "plt.ylabel(\"Daya Terima (dBm)\")\r\n",
        "plt.title(\"Diagram Link Power Budget\")\r\n",
        "plt.show()"
      ],
      "execution_count": 176,
      "outputs": [
        {
          "output_type": "display_data",
          "data": {
            "image/png": "[encoded data removed]",
            "text/plain": [
              "<Figure size 432x288 with 1 Axes>"
            ]
          },
          "metadata": {
            "tags": [],
            "needs_background": "light"
          }
        }
      ]
    },
    {
      "cell_type": "code",
      "metadata": {
        "colab": {
          "base_uri": "https://localhost:8080/"
        },
        "id": "BzBXy3cdLPMy",
        "outputId": "de264e49-67de-464b-ce68-ad087975d03b"
      },
      "source": [
        "if (Prx>Sensitivitas).any():\r\n",
        "  print(\"LPB Terpenuhi\")\r\n",
        "else:\r\n",
        "  print(\"Tidak Terpenuhi\")"
      ],
      "execution_count": 166,
      "outputs": [
        {
          "output_type": "stream",
          "text": [
            "LPB Terpenuhi\n"
          ],
          "name": "stdout"
        }
      ]
    },
    {
      "cell_type": "code",
      "metadata": {
        "id": "E9GFQ1cvOxaa"
      },
      "source": [
        "t_mat= disp_M*jarak*spektral\r\n",
        "t_wg= 0\r\n",
        "t_mod= 0\r\n",
        "t_sys=np.sqrt(t_tx**2 + t_mat**2 + t_mod**2 + t_wg**2 + t_rx)"
      ],
      "execution_count": 167,
      "outputs": []
    },
    {
      "cell_type": "code",
      "metadata": {
        "id": "0iT0dvKzO8HX",
        "colab": {
          "base_uri": "https://localhost:8080/"
        },
        "outputId": "b9fc7bcd-e644-4f84-86f4-c9f44da64432"
      },
      "source": [
        "t_sys"
      ],
      "execution_count": 168,
      "outputs": [
        {
          "output_type": "execute_result",
          "data": {
            "text/plain": [
              "array([5.91607978e-06, 5.91607978e-06, 5.91607978e-06, 5.91607978e-06,\n",
              "       5.91607978e-06, 5.91607978e-06, 5.91607978e-06, 5.91607978e-06,\n",
              "       5.91607978e-06, 5.91607978e-06, 5.91607978e-06, 5.91607978e-06,\n",
              "       5.91607978e-06, 5.91607978e-06, 5.91607978e-06, 5.91607978e-06,\n",
              "       5.91607978e-06, 5.91607978e-06, 5.91607978e-06, 5.91607978e-06,\n",
              "       5.91607978e-06, 5.91607978e-06, 5.91607978e-06, 5.91607978e-06,\n",
              "       5.91607978e-06, 5.91607978e-06, 5.91607978e-06, 5.91607978e-06,\n",
              "       5.91607978e-06, 5.91607978e-06, 5.91607978e-06, 5.91607978e-06,\n",
              "       5.91607978e-06, 5.91607978e-06, 5.91607978e-06, 5.91607978e-06,\n",
              "       5.91607978e-06, 5.91607978e-06, 5.91607978e-06, 5.91607978e-06])"
            ]
          },
          "metadata": {
            "tags": []
          },
          "execution_count": 168
        }
      ]
    },
    {
      "cell_type": "code",
      "metadata": {
        "colab": {
          "base_uri": "https://localhost:8080/",
          "height": 294
        },
        "id": "pVZVZvtQayHZ",
        "outputId": "5785ab4b-0887-4a81-fd88-2d1b5753be65"
      },
      "source": [
        "plt.plot(jarak,t_sys)\r\n",
        "plt.xlabel(\"Jarak (m)\")\r\n",
        "plt.ylabel(\"Disepersi Sistem (m)\")\r\n",
        "plt.title(\"Diagram Rise Time Budget\")\r\n",
        "plt.show()"
      ],
      "execution_count": 173,
      "outputs": [
        {
          "output_type": "display_data",
          "data": {
            "image/png": "[encoded data removed]",
            "text/plain": [
              "<Figure size 432x288 with 1 Axes>"
            ]
          },
          "metadata": {
            "tags": [],
            "needs_background": "light"
          }
        }
      ]
    },
    {
      "cell_type": "code",
      "metadata": {
        "colab": {
          "base_uri": "https://localhost:8080/"
        },
        "id": "Dzp-dgTxS1Vm",
        "outputId": "93c757f5-7d34-43ee-d4c9-79acad2c1bb3"
      },
      "source": [
        "if (t_sys<=Mod_NRZ).any():\r\n",
        "    print (\"RTB NRZ terpenuhi\")\r\n",
        "else :\r\n",
        "    print (\"RTB NRZ Tidak Terpenuhi, Hitung ulang\")\r\n",
        "    \r\n",
        "if (t_sys<=Mod_RZ).any():\r\n",
        "    print (\"RTB RZ terpenuhi\")\r\n",
        "else :\r\n",
        "    print (\"RTB RZ Tidak Terpenuhi, Hitung Ulang\")"
      ],
      "execution_count": 177,
      "outputs": [
        {
          "output_type": "stream",
          "text": [
            "RTB NRZ terpenuhi\n",
            "RTB RZ terpenuhi\n"
          ],
          "name": "stdout"
        }
      ]
    }
  ]
}